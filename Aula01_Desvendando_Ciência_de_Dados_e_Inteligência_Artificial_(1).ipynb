{
  "cells": [
    {
      "cell_type": "markdown",
      "metadata": {
        "id": "view-in-github",
        "colab_type": "text"
      },
      "source": [
        "<a href=\"https://colab.research.google.com/github/renatahellenn/skills-introduction-to-github/blob/main/Aula01_Desvendando_Ci%C3%AAncia_de_Dados_e_Intelig%C3%AAncia_Artificial_(1).ipynb\" target=\"_parent\"><img src=\"https://colab.research.google.com/assets/colab-badge.svg\" alt=\"Open In Colab\"/></a>"
      ]
    },
    {
      "cell_type": "markdown",
      "id": "aa93d50b",
      "metadata": {
        "id": "aa93d50b"
      },
      "source": [
        "![aula01capa.png](attachment:aula01capa.png)"
      ]
    },
    {
      "cell_type": "markdown",
      "id": "a3344090",
      "metadata": {
        "id": "a3344090"
      },
      "source": [
        "## Componentes da Ciência de Dados\n",
        "![componentesCienciaDados.png](attachment:componentesCienciaDados.png)"
      ]
    },
    {
      "cell_type": "markdown",
      "id": "ccbbe0f5",
      "metadata": {
        "id": "ccbbe0f5"
      },
      "source": [
        "# Considere um Problema\n",
        "### Imagine que você precisa separar tipos de espécies de um flor.\n",
        "\n",
        "Seu objetivo é : Prever a espécie de uma flor com base nas medidas das sépalas e pétalas.\n",
        "\n"
      ]
    },
    {
      "cell_type": "markdown",
      "id": "fd4e1896",
      "metadata": {
        "id": "fd4e1896"
      },
      "source": [
        "![flor.png](attachment:flor.png)"
      ]
    },
    {
      "cell_type": "markdown",
      "id": "cfe75812",
      "metadata": {
        "id": "cfe75812"
      },
      "source": [
        "# ETAPAS DO PROJETO"
      ]
    },
    {
      "cell_type": "markdown",
      "id": "626c9249",
      "metadata": {
        "id": "626c9249"
      },
      "source": [
        "## PASSO 1: Coleta de Dados"
      ]
    },
    {
      "cell_type": "markdown",
      "id": "23519167",
      "metadata": {
        "id": "23519167"
      },
      "source": [
        "![coletadados.png](attachment:coletadados.png)"
      ]
    },
    {
      "cell_type": "markdown",
      "id": "499f7d06",
      "metadata": {
        "id": "499f7d06"
      },
      "source": [
        "### O Iris dataset está disponível diretamente na biblioteca sklearn, por isso podemos carregá-lo sem precisar baixar ou carregar arquivos.\n",
        "\n",
        "### Explicação:\n",
        "iris.data: Contém as características da flor (comprimento e largura das sépalas e pétalas).\n",
        "iris.target: Contém os rótulos de classificação (0, 1, 2), que correspondem às três espécies de íris."
      ]
    },
    {
      "cell_type": "code",
      "execution_count": null,
      "id": "621666fb",
      "metadata": {
        "id": "621666fb",
        "colab": {
          "base_uri": "https://localhost:8080/",
          "height": 206
        },
        "outputId": "702c53c0-51d4-4045-b4a5-b22fb9db392b"
      },
      "outputs": [
        {
          "output_type": "execute_result",
          "data": {
            "text/plain": [
              "   sepal length (cm)  sepal width (cm)  petal length (cm)  petal width (cm)  \\\n",
              "0                5.1               3.5                1.4               0.2   \n",
              "1                4.9               3.0                1.4               0.2   \n",
              "2                4.7               3.2                1.3               0.2   \n",
              "3                4.6               3.1                1.5               0.2   \n",
              "4                5.0               3.6                1.4               0.2   \n",
              "\n",
              "   species  \n",
              "0        0  \n",
              "1        0  \n",
              "2        0  \n",
              "3        0  \n",
              "4        0  "
            ],
            "text/html": [
              "\n",
              "  <div id=\"df-7d31c958-0fd7-4ff9-a491-135b98858e01\" class=\"colab-df-container\">\n",
              "    <div>\n",
              "<style scoped>\n",
              "    .dataframe tbody tr th:only-of-type {\n",
              "        vertical-align: middle;\n",
              "    }\n",
              "\n",
              "    .dataframe tbody tr th {\n",
              "        vertical-align: top;\n",
              "    }\n",
              "\n",
              "    .dataframe thead th {\n",
              "        text-align: right;\n",
              "    }\n",
              "</style>\n",
              "<table border=\"1\" class=\"dataframe\">\n",
              "  <thead>\n",
              "    <tr style=\"text-align: right;\">\n",
              "      <th></th>\n",
              "      <th>sepal length (cm)</th>\n",
              "      <th>sepal width (cm)</th>\n",
              "      <th>petal length (cm)</th>\n",
              "      <th>petal width (cm)</th>\n",
              "      <th>species</th>\n",
              "    </tr>\n",
              "  </thead>\n",
              "  <tbody>\n",
              "    <tr>\n",
              "      <th>0</th>\n",
              "      <td>5.1</td>\n",
              "      <td>3.5</td>\n",
              "      <td>1.4</td>\n",
              "      <td>0.2</td>\n",
              "      <td>0</td>\n",
              "    </tr>\n",
              "    <tr>\n",
              "      <th>1</th>\n",
              "      <td>4.9</td>\n",
              "      <td>3.0</td>\n",
              "      <td>1.4</td>\n",
              "      <td>0.2</td>\n",
              "      <td>0</td>\n",
              "    </tr>\n",
              "    <tr>\n",
              "      <th>2</th>\n",
              "      <td>4.7</td>\n",
              "      <td>3.2</td>\n",
              "      <td>1.3</td>\n",
              "      <td>0.2</td>\n",
              "      <td>0</td>\n",
              "    </tr>\n",
              "    <tr>\n",
              "      <th>3</th>\n",
              "      <td>4.6</td>\n",
              "      <td>3.1</td>\n",
              "      <td>1.5</td>\n",
              "      <td>0.2</td>\n",
              "      <td>0</td>\n",
              "    </tr>\n",
              "    <tr>\n",
              "      <th>4</th>\n",
              "      <td>5.0</td>\n",
              "      <td>3.6</td>\n",
              "      <td>1.4</td>\n",
              "      <td>0.2</td>\n",
              "      <td>0</td>\n",
              "    </tr>\n",
              "  </tbody>\n",
              "</table>\n",
              "</div>\n",
              "    <div class=\"colab-df-buttons\">\n",
              "\n",
              "  <div class=\"colab-df-container\">\n",
              "    <button class=\"colab-df-convert\" onclick=\"convertToInteractive('df-7d31c958-0fd7-4ff9-a491-135b98858e01')\"\n",
              "            title=\"Convert this dataframe to an interactive table.\"\n",
              "            style=\"display:none;\">\n",
              "\n",
              "  <svg xmlns=\"http://www.w3.org/2000/svg\" height=\"24px\" viewBox=\"0 -960 960 960\">\n",
              "    <path d=\"M120-120v-720h720v720H120Zm60-500h600v-160H180v160Zm220 220h160v-160H400v160Zm0 220h160v-160H400v160ZM180-400h160v-160H180v160Zm440 0h160v-160H620v160ZM180-180h160v-160H180v160Zm440 0h160v-160H620v160Z\"/>\n",
              "  </svg>\n",
              "    </button>\n",
              "\n",
              "  <style>\n",
              "    .colab-df-container {\n",
              "      display:flex;\n",
              "      gap: 12px;\n",
              "    }\n",
              "\n",
              "    .colab-df-convert {\n",
              "      background-color: #E8F0FE;\n",
              "      border: none;\n",
              "      border-radius: 50%;\n",
              "      cursor: pointer;\n",
              "      display: none;\n",
              "      fill: #1967D2;\n",
              "      height: 32px;\n",
              "      padding: 0 0 0 0;\n",
              "      width: 32px;\n",
              "    }\n",
              "\n",
              "    .colab-df-convert:hover {\n",
              "      background-color: #E2EBFA;\n",
              "      box-shadow: 0px 1px 2px rgba(60, 64, 67, 0.3), 0px 1px 3px 1px rgba(60, 64, 67, 0.15);\n",
              "      fill: #174EA6;\n",
              "    }\n",
              "\n",
              "    .colab-df-buttons div {\n",
              "      margin-bottom: 4px;\n",
              "    }\n",
              "\n",
              "    [theme=dark] .colab-df-convert {\n",
              "      background-color: #3B4455;\n",
              "      fill: #D2E3FC;\n",
              "    }\n",
              "\n",
              "    [theme=dark] .colab-df-convert:hover {\n",
              "      background-color: #434B5C;\n",
              "      box-shadow: 0px 1px 3px 1px rgba(0, 0, 0, 0.15);\n",
              "      filter: drop-shadow(0px 1px 2px rgba(0, 0, 0, 0.3));\n",
              "      fill: #FFFFFF;\n",
              "    }\n",
              "  </style>\n",
              "\n",
              "    <script>\n",
              "      const buttonEl =\n",
              "        document.querySelector('#df-7d31c958-0fd7-4ff9-a491-135b98858e01 button.colab-df-convert');\n",
              "      buttonEl.style.display =\n",
              "        google.colab.kernel.accessAllowed ? 'block' : 'none';\n",
              "\n",
              "      async function convertToInteractive(key) {\n",
              "        const element = document.querySelector('#df-7d31c958-0fd7-4ff9-a491-135b98858e01');\n",
              "        const dataTable =\n",
              "          await google.colab.kernel.invokeFunction('convertToInteractive',\n",
              "                                                    [key], {});\n",
              "        if (!dataTable) return;\n",
              "\n",
              "        const docLinkHtml = 'Like what you see? Visit the ' +\n",
              "          '<a target=\"_blank\" href=https://colab.research.google.com/notebooks/data_table.ipynb>data table notebook</a>'\n",
              "          + ' to learn more about interactive tables.';\n",
              "        element.innerHTML = '';\n",
              "        dataTable['output_type'] = 'display_data';\n",
              "        await google.colab.output.renderOutput(dataTable, element);\n",
              "        const docLink = document.createElement('div');\n",
              "        docLink.innerHTML = docLinkHtml;\n",
              "        element.appendChild(docLink);\n",
              "      }\n",
              "    </script>\n",
              "  </div>\n",
              "\n",
              "\n",
              "<div id=\"df-e863ed08-316b-47db-8b3d-cdab75b59233\">\n",
              "  <button class=\"colab-df-quickchart\" onclick=\"quickchart('df-e863ed08-316b-47db-8b3d-cdab75b59233')\"\n",
              "            title=\"Suggest charts\"\n",
              "            style=\"display:none;\">\n",
              "\n",
              "<svg xmlns=\"http://www.w3.org/2000/svg\" height=\"24px\"viewBox=\"0 0 24 24\"\n",
              "     width=\"24px\">\n",
              "    <g>\n",
              "        <path d=\"M19 3H5c-1.1 0-2 .9-2 2v14c0 1.1.9 2 2 2h14c1.1 0 2-.9 2-2V5c0-1.1-.9-2-2-2zM9 17H7v-7h2v7zm4 0h-2V7h2v10zm4 0h-2v-4h2v4z\"/>\n",
              "    </g>\n",
              "</svg>\n",
              "  </button>\n",
              "\n",
              "<style>\n",
              "  .colab-df-quickchart {\n",
              "      --bg-color: #E8F0FE;\n",
              "      --fill-color: #1967D2;\n",
              "      --hover-bg-color: #E2EBFA;\n",
              "      --hover-fill-color: #174EA6;\n",
              "      --disabled-fill-color: #AAA;\n",
              "      --disabled-bg-color: #DDD;\n",
              "  }\n",
              "\n",
              "  [theme=dark] .colab-df-quickchart {\n",
              "      --bg-color: #3B4455;\n",
              "      --fill-color: #D2E3FC;\n",
              "      --hover-bg-color: #434B5C;\n",
              "      --hover-fill-color: #FFFFFF;\n",
              "      --disabled-bg-color: #3B4455;\n",
              "      --disabled-fill-color: #666;\n",
              "  }\n",
              "\n",
              "  .colab-df-quickchart {\n",
              "    background-color: var(--bg-color);\n",
              "    border: none;\n",
              "    border-radius: 50%;\n",
              "    cursor: pointer;\n",
              "    display: none;\n",
              "    fill: var(--fill-color);\n",
              "    height: 32px;\n",
              "    padding: 0;\n",
              "    width: 32px;\n",
              "  }\n",
              "\n",
              "  .colab-df-quickchart:hover {\n",
              "    background-color: var(--hover-bg-color);\n",
              "    box-shadow: 0 1px 2px rgba(60, 64, 67, 0.3), 0 1px 3px 1px rgba(60, 64, 67, 0.15);\n",
              "    fill: var(--button-hover-fill-color);\n",
              "  }\n",
              "\n",
              "  .colab-df-quickchart-complete:disabled,\n",
              "  .colab-df-quickchart-complete:disabled:hover {\n",
              "    background-color: var(--disabled-bg-color);\n",
              "    fill: var(--disabled-fill-color);\n",
              "    box-shadow: none;\n",
              "  }\n",
              "\n",
              "  .colab-df-spinner {\n",
              "    border: 2px solid var(--fill-color);\n",
              "    border-color: transparent;\n",
              "    border-bottom-color: var(--fill-color);\n",
              "    animation:\n",
              "      spin 1s steps(1) infinite;\n",
              "  }\n",
              "\n",
              "  @keyframes spin {\n",
              "    0% {\n",
              "      border-color: transparent;\n",
              "      border-bottom-color: var(--fill-color);\n",
              "      border-left-color: var(--fill-color);\n",
              "    }\n",
              "    20% {\n",
              "      border-color: transparent;\n",
              "      border-left-color: var(--fill-color);\n",
              "      border-top-color: var(--fill-color);\n",
              "    }\n",
              "    30% {\n",
              "      border-color: transparent;\n",
              "      border-left-color: var(--fill-color);\n",
              "      border-top-color: var(--fill-color);\n",
              "      border-right-color: var(--fill-color);\n",
              "    }\n",
              "    40% {\n",
              "      border-color: transparent;\n",
              "      border-right-color: var(--fill-color);\n",
              "      border-top-color: var(--fill-color);\n",
              "    }\n",
              "    60% {\n",
              "      border-color: transparent;\n",
              "      border-right-color: var(--fill-color);\n",
              "    }\n",
              "    80% {\n",
              "      border-color: transparent;\n",
              "      border-right-color: var(--fill-color);\n",
              "      border-bottom-color: var(--fill-color);\n",
              "    }\n",
              "    90% {\n",
              "      border-color: transparent;\n",
              "      border-bottom-color: var(--fill-color);\n",
              "    }\n",
              "  }\n",
              "</style>\n",
              "\n",
              "  <script>\n",
              "    async function quickchart(key) {\n",
              "      const quickchartButtonEl =\n",
              "        document.querySelector('#' + key + ' button');\n",
              "      quickchartButtonEl.disabled = true;  // To prevent multiple clicks.\n",
              "      quickchartButtonEl.classList.add('colab-df-spinner');\n",
              "      try {\n",
              "        const charts = await google.colab.kernel.invokeFunction(\n",
              "            'suggestCharts', [key], {});\n",
              "      } catch (error) {\n",
              "        console.error('Error during call to suggestCharts:', error);\n",
              "      }\n",
              "      quickchartButtonEl.classList.remove('colab-df-spinner');\n",
              "      quickchartButtonEl.classList.add('colab-df-quickchart-complete');\n",
              "    }\n",
              "    (() => {\n",
              "      let quickchartButtonEl =\n",
              "        document.querySelector('#df-e863ed08-316b-47db-8b3d-cdab75b59233 button');\n",
              "      quickchartButtonEl.style.display =\n",
              "        google.colab.kernel.accessAllowed ? 'block' : 'none';\n",
              "    })();\n",
              "  </script>\n",
              "</div>\n",
              "\n",
              "    </div>\n",
              "  </div>\n"
            ],
            "application/vnd.google.colaboratory.intrinsic+json": {
              "type": "dataframe",
              "variable_name": "dados",
              "summary": "{\n  \"name\": \"dados\",\n  \"rows\": 150,\n  \"fields\": [\n    {\n      \"column\": \"sepal length (cm)\",\n      \"properties\": {\n        \"dtype\": \"number\",\n        \"std\": 0.8280661279778629,\n        \"min\": 4.3,\n        \"max\": 7.9,\n        \"num_unique_values\": 35,\n        \"samples\": [\n          6.2,\n          4.5,\n          5.6\n        ],\n        \"semantic_type\": \"\",\n        \"description\": \"\"\n      }\n    },\n    {\n      \"column\": \"sepal width (cm)\",\n      \"properties\": {\n        \"dtype\": \"number\",\n        \"std\": 0.435866284936698,\n        \"min\": 2.0,\n        \"max\": 4.4,\n        \"num_unique_values\": 23,\n        \"samples\": [\n          2.3,\n          4.0,\n          3.5\n        ],\n        \"semantic_type\": \"\",\n        \"description\": \"\"\n      }\n    },\n    {\n      \"column\": \"petal length (cm)\",\n      \"properties\": {\n        \"dtype\": \"number\",\n        \"std\": 1.7652982332594667,\n        \"min\": 1.0,\n        \"max\": 6.9,\n        \"num_unique_values\": 43,\n        \"samples\": [\n          6.7,\n          3.8,\n          3.7\n        ],\n        \"semantic_type\": \"\",\n        \"description\": \"\"\n      }\n    },\n    {\n      \"column\": \"petal width (cm)\",\n      \"properties\": {\n        \"dtype\": \"number\",\n        \"std\": 0.7622376689603465,\n        \"min\": 0.1,\n        \"max\": 2.5,\n        \"num_unique_values\": 22,\n        \"samples\": [\n          0.2,\n          1.2,\n          1.3\n        ],\n        \"semantic_type\": \"\",\n        \"description\": \"\"\n      }\n    },\n    {\n      \"column\": \"species\",\n      \"properties\": {\n        \"dtype\": \"number\",\n        \"std\": 0,\n        \"min\": 0,\n        \"max\": 2,\n        \"num_unique_values\": 3,\n        \"samples\": [\n          0,\n          1,\n          2\n        ],\n        \"semantic_type\": \"\",\n        \"description\": \"\"\n      }\n    }\n  ]\n}"
            }
          },
          "metadata": {},
          "execution_count": 1
        }
      ],
      "source": [
        "# Importando as bibliotecas necessárias\n",
        "from sklearn.datasets import load_iris\n",
        "import pandas as pd\n",
        "\n",
        "# Carregar o dataset Iris\n",
        "iris = load_iris()\n",
        "\n",
        "# Criar um DataFrame com as características (features)\n",
        "dados = pd.DataFrame(iris.data, columns=iris.feature_names)\n",
        "\n",
        "# Adicionar a coluna alvo (target), que contém as classes das flores\n",
        "dados['species'] = iris.target\n",
        "\n",
        "# Exibir as primeiras linhas do DataFrame\n",
        "dados.head()"
      ]
    },
    {
      "cell_type": "markdown",
      "id": "747616eb",
      "metadata": {
        "id": "747616eb"
      },
      "source": [
        "## PASSO 2: Preparação e Limpeza dos Dados"
      ]
    },
    {
      "cell_type": "markdown",
      "id": "4a7aed47",
      "metadata": {
        "id": "4a7aed47"
      },
      "source": [
        "![preparacaodados.png](attachment:preparacaodados.png)"
      ]
    },
    {
      "cell_type": "markdown",
      "id": "6481036f",
      "metadata": {
        "id": "6481036f"
      },
      "source": [
        "### Como o dataset Iris é bem limpo, não há dados ausentes. Aqui, verificamos se existe algum problema nos dados.\n",
        "\n",
        "#### Explicação:\n",
        "dados.isnull().sum(): Verifica se há valores ausentes nas colunas. No caso do Iris dataset, ele não tem valores ausentes.\n",
        "dados['species'].value_counts(): Mostra quantas observações existem para cada espécie de flor."
      ]
    },
    {
      "cell_type": "code",
      "execution_count": null,
      "id": "a5a53547",
      "metadata": {
        "id": "a5a53547",
        "colab": {
          "base_uri": "https://localhost:8080/"
        },
        "outputId": "aba9de2a-1236-4988-9790-51e1388b0321"
      },
      "outputs": [
        {
          "output_type": "stream",
          "name": "stdout",
          "text": [
            "sepal length (cm)    0\n",
            "sepal width (cm)     0\n",
            "petal length (cm)    0\n",
            "petal width (cm)     0\n",
            "species              0\n",
            "dtype: int64\n",
            "species\n",
            "0    50\n",
            "1    50\n",
            "2    50\n",
            "Name: count, dtype: int64\n"
          ]
        }
      ],
      "source": [
        "# Verificar se há dados ausentes\n",
        "print(dados.isnull().sum())\n",
        "\n",
        "# Verificar a distribuição das classes (espécies de flores)\n",
        "print(dados['species'].value_counts())"
      ]
    },
    {
      "cell_type": "markdown",
      "id": "e5ba2a74",
      "metadata": {
        "id": "e5ba2a74"
      },
      "source": [
        "## PASSO 3: Análise Exploratória dos Dados"
      ]
    },
    {
      "cell_type": "markdown",
      "id": "05e37d33",
      "metadata": {
        "id": "05e37d33"
      },
      "source": [
        "![An%C3%A1liseExploratoria.png](attachment:An%C3%A1liseExploratoria.png)"
      ]
    },
    {
      "cell_type": "markdown",
      "id": "226e6df6",
      "metadata": {
        "id": "226e6df6"
      },
      "source": [
        "### Vamos fazer algumas análises básicas e explicar o que cada gráfico ou tabela significa. A ideia é que  possamos entender como as diferentes características das flores estão relacionadas entre si e como isso influencia a classificação.\n"
      ]
    },
    {
      "cell_type": "markdown",
      "id": "8d449944",
      "metadata": {
        "id": "8d449944"
      },
      "source": [
        "### 3.1 Distribuição das Espécies de Flores\n",
        "Primeiro, vamos verificar quantas amostras temos de cada espécie de flor no dataset.\n",
        "\n",
        "#### Explicação:\n",
        "\n",
        "Esse gráfico mostra quantas amostras temos de cada uma das três espécies de íris no dataset. O eixo X representa as espécies (0 = Setosa, 1 = Versicolor, 2 = Virginica) e o eixo Y mostra a quantidade de amostras de cada espécie.\n",
        "O gráfico é útil para ver se as classes estão equilibradas ou se alguma tem muito mais amostras que as outras."
      ]
    },
    {
      "cell_type": "code",
      "execution_count": null,
      "id": "b8f3660d",
      "metadata": {
        "id": "b8f3660d",
        "colab": {
          "base_uri": "https://localhost:8080/",
          "height": 473
        },
        "outputId": "5b841e3a-ccb8-41e9-b9a4-105e08806815"
      },
      "outputs": [
        {
          "output_type": "display_data",
          "data": {
            "text/plain": [
              "<Figure size 640x480 with 1 Axes>"
            ],
            "image/png": "[encoded data removed]"
          },
          "metadata": {}
        }
      ],
      "source": [
        "import seaborn as sns\n",
        "import matplotlib.pyplot as plt\n",
        "\n",
        "# Contagem de flores por espécie\n",
        "sns.countplot(x='species', data=dados)\n",
        "plt.title(\"Distribuição das Espécies de Flores\")\n",
        "plt.xlabel(\"Espécie de Flor (0 = Setosa, 1 = Versicolor, 2 = Virginica)\")\n",
        "plt.ylabel(\"Quantidade\")\n",
        "plt.show()"
      ]
    },
    {
      "cell_type": "markdown",
      "id": "04692389",
      "metadata": {
        "id": "04692389"
      },
      "source": [
        "### 3.2 Distribuição do Comprimento da Pétala por Espécie\n",
        "\n",
        "Agora vamos ver como o comprimento das pétalas varia entre as três espécies de flores. Isso nos ajuda a entender se essa característica pode ajudar a diferenciar as espécies.\n",
        "\n",
        "#### Explicação:\n",
        "Um boxplot nos ajuda a visualizar a distribuição de uma característica (neste caso, o comprimento da pétala) para cada espécie de flor.\n",
        "\n",
        "O gráfico mostra que a espécie Setosa (0) tem pétalas significativamente mais curtas que as outras duas espécies, enquanto as espécies Versicolor (1) e Virginica (2) têm pétalas mais longas e apresentam alguma sobreposição.\n",
        "\n",
        "Esse tipo de gráfico ajuda a identificar se uma característica (como o comprimento da pétala) pode ser usada para diferenciar entre as espécies."
      ]
    },
    {
      "cell_type": "code",
      "execution_count": null,
      "id": "eaa1dab6",
      "metadata": {
        "id": "eaa1dab6",
        "colab": {
          "base_uri": "https://localhost:8080/",
          "height": 473
        },
        "outputId": "aee7356d-edd3-44f2-ad7a-95590bba39be"
      },
      "outputs": [
        {
          "output_type": "display_data",
          "data": {
            "text/plain": [
              "<Figure size 640x480 with 1 Axes>"
            ],
            "image/png": "[encoded data removed]"
          },
          "metadata": {}
        }
      ],
      "source": [
        "# Boxplot para comparar o comprimento da pétala entre as espécies\n",
        "sns.boxplot(x='species', y='petal length (cm)', data=dados)\n",
        "plt.title(\"Comprimento da Pétala por Espécie\")\n",
        "plt.xlabel(\"Espécie de Flor (0 = Setosa, 1 = Versicolor, 2 = Virginica)\")\n",
        "plt.ylabel(\"Comprimento da Pétala (cm)\")\n",
        "plt.show()"
      ]
    },
    {
      "cell_type": "markdown",
      "id": "e719492b",
      "metadata": {
        "id": "e719492b"
      },
      "source": [
        "### 3.3 Comparando o Comprimento da Sépala e da Pétala\n",
        "\n",
        "Agora, vamos visualizar como o comprimento da sépala e da pétala se relacionam entre as diferentes espécies de flores. Isso pode nos dar uma ideia de como essas características podem ajudar a classificar as flores.\n",
        "\n",
        "#### Explicação:\n",
        "\n",
        "Um scatterplot é útil para ver a relação entre duas variáveis numéricas.\n",
        "\n",
        "Aqui, ele mostra como o comprimento da sépala e o comprimento da pétala estão relacionados.\n",
        "As cores diferentes no gráfico representam as três espécies de flores. Podemos ver que a espécie Setosa (cor \"mais clara\") tem pétalas e sépalas mais curtas, enquanto Versicolor e Virginica estão mais agrupadas, mas têm diferenças sutis.\n",
        "Isso indica que essas duas características (sépalas e pétalas) podem ser úteis para distinguir as espécies."
      ]
    },
    {
      "cell_type": "code",
      "execution_count": null,
      "id": "e02f1764",
      "metadata": {
        "id": "e02f1764",
        "colab": {
          "base_uri": "https://localhost:8080/",
          "height": 473
        },
        "outputId": "32190574-5393-48ba-95b3-dfe476160f8e"
      },
      "outputs": [
        {
          "output_type": "display_data",
          "data": {
            "text/plain": [
              "<Figure size 640x480 with 1 Axes>"
            ],
            "image/png": "[encoded data removed]"
          },
          "metadata": {}
        }
      ],
      "source": [
        "# Scatterplot para comparar comprimento da sépala e da pétala\n",
        "sns.scatterplot(x='sepal length (cm)', y='petal length (cm)', hue='species', data=dados)\n",
        "plt.title(\"Comparação entre Comprimento da Sépala e da Pétala\")\n",
        "plt.xlabel(\"Comprimento da Sépala (cm)\")\n",
        "plt.ylabel(\"Comprimento da Pétala (cm)\")\n",
        "plt.show()"
      ]
    },
    {
      "cell_type": "markdown",
      "id": "fff27de3",
      "metadata": {
        "id": "fff27de3"
      },
      "source": [
        "### 3.4 Resumo Estatístico das Variáveis Numéricas\n",
        "Para entender mais sobre a distribuição das características numéricas (como comprimento e largura das sépalas e pétalas), podemos gerar um resumo estatístico.\n",
        "\n",
        "#### Explicação:\n",
        "O comando describe() gera um resumo estatístico com informações importantes como a média, o valor mínimo e o valor máximo de cada característica.\n",
        "\n",
        "Isso nos ajuda a entender a variação dos dados e identificar se há discrepâncias ou padrões importantes. Por exemplo, podemos ver que o comprimento da pétala varia muito mais que a largura da sépala."
      ]
    },
    {
      "cell_type": "code",
      "execution_count": null,
      "id": "b4f29c49",
      "metadata": {
        "id": "b4f29c49",
        "colab": {
          "base_uri": "https://localhost:8080/"
        },
        "outputId": "648a0cc3-3ebb-4c37-8356-fb9b4736e9fc"
      },
      "outputs": [
        {
          "output_type": "stream",
          "name": "stdout",
          "text": [
            "       sepal length (cm)  sepal width (cm)  petal length (cm)  \\\n",
            "count         150.000000        150.000000         150.000000   \n",
            "mean            5.843333          3.057333           3.758000   \n",
            "std             0.828066          0.435866           1.765298   \n",
            "min             4.300000          2.000000           1.000000   \n",
            "25%             5.100000          2.800000           1.600000   \n",
            "50%             5.800000          3.000000           4.350000   \n",
            "75%             6.400000          3.300000           5.100000   \n",
            "max             7.900000          4.400000           6.900000   \n",
            "\n",
            "       petal width (cm)     species  \n",
            "count        150.000000  150.000000  \n",
            "mean           1.199333    1.000000  \n",
            "std            0.762238    0.819232  \n",
            "min            0.100000    0.000000  \n",
            "25%            0.300000    0.000000  \n",
            "50%            1.300000    1.000000  \n",
            "75%            1.800000    2.000000  \n",
            "max            2.500000    2.000000  \n"
          ]
        }
      ],
      "source": [
        "# Exibir resumo estatístico das variáveis numéricas\n",
        "print(dados.describe())"
      ]
    },
    {
      "cell_type": "markdown",
      "id": "2862e6b6",
      "metadata": {
        "id": "2862e6b6"
      },
      "source": [
        "### Conclusão da Análise\n",
        "Com essa análise simplificada, conseguimos entender algumas coisas importantes sobre o dataset:\n",
        "\n",
        "- Distribuição das espécies: O dataset está equilibrado, com quantidades semelhantes de amostras para cada espécie de flor.\n",
        "\n",
        "- Diferença de características entre as espécies: A espécie Setosa é bem diferente das outras duas, especialmente no comprimento da pétala. Já Versicolor e Virginica têm algumas características que se sobrepõem, mas com pequenas diferenças.\n",
        "\n",
        "- Correlação entre sépalas e pétalas: As flores com sépalas mais longas tendem a ter pétalas mais longas, mas essa relação varia entre as espécies.\n",
        "\n",
        "Essa análise nos dá uma boa base para avançar para a modelagem, onde usaremos essas características para prever a espécie de uma flor."
      ]
    },
    {
      "cell_type": "markdown",
      "id": "ffa664dd",
      "metadata": {
        "id": "ffa664dd"
      },
      "source": [
        "## PASSO 4: Modelagem dos Dados"
      ]
    },
    {
      "cell_type": "markdown",
      "id": "0ffe23c2",
      "metadata": {
        "id": "0ffe23c2"
      },
      "source": [
        "![modelagemdados.png](attachment:modelagemdados.png)"
      ]
    },
    {
      "cell_type": "markdown",
      "id": "a79425ed",
      "metadata": {
        "id": "a79425ed"
      },
      "source": [
        "### Agora vamos criar um modelo simples de Random Forest para classificar as espécies de flores com base nas medidas de suas sépalas e pétalas.\n",
        "  \n",
        "#### Explicação:\n",
        "train_test_split: Divide os dados em treino (80%) e teste (20%) para que possamos avaliar o desempenho do modelo em dados que ele não viu antes.\n",
        "RandomForestClassifier: Um modelo de classificação que usa múltiplas árvores de decisão para melhorar a precisão.\n",
        "accuracy_score: Mede a porcentagem de previsões corretas feitas pelo modelo.  "
      ]
    },
    {
      "cell_type": "code",
      "execution_count": null,
      "id": "fa9f164f",
      "metadata": {
        "id": "fa9f164f",
        "colab": {
          "base_uri": "https://localhost:8080/"
        },
        "outputId": "1994d371-14fa-40a2-fff6-846bf89e253d"
      },
      "outputs": [
        {
          "output_type": "stream",
          "name": "stdout",
          "text": [
            "Acurácia do modelo: 1.0\n"
          ]
        }
      ],
      "source": [
        "from sklearn.model_selection import train_test_split\n",
        "from sklearn.ensemble import RandomForestClassifier\n",
        "from sklearn.metrics import accuracy_score\n",
        "\n",
        "# Separar as variáveis independentes (X) e a variável dependente (y)\n",
        "X = dados.drop('species', axis=1)\n",
        "y = dados['species']\n",
        "\n",
        "# Dividir os dados em conjuntos de treino (80%) e teste (20%)\n",
        "X_train, X_test, y_train, y_test = train_test_split(X, y, test_size=0.2, random_state=42)\n",
        "\n",
        "# Criar e treinar o modelo de Random Forest\n",
        "modelo = RandomForestClassifier(random_state=42)\n",
        "modelo.fit(X_train, y_train)\n",
        "\n",
        "# Fazer previsões no conjunto de teste\n",
        "y_pred = modelo.predict(X_test)\n",
        "\n",
        "# Avaliar o modelo com base na acurácia\n",
        "print(\"Acurácia do modelo:\", accuracy_score(y_test, y_pred))\n"
      ]
    },
    {
      "cell_type": "markdown",
      "id": "a078f498",
      "metadata": {
        "id": "a078f498"
      },
      "source": [
        "## PASSO 5: Validação e Tomada de Decisão"
      ]
    },
    {
      "cell_type": "markdown",
      "id": "2bd84b8e",
      "metadata": {
        "id": "2bd84b8e"
      },
      "source": [
        "![validacao.png](attachment:validacao.png)"
      ]
    },
    {
      "cell_type": "markdown",
      "id": "952c5302",
      "metadata": {
        "id": "952c5302"
      },
      "source": [
        "### Vamos gerar um relatório de classificação para avaliar o desempenho do modelo de forma mais detalhada.\n",
        "  \n",
        "#### Explicação:\n",
        "O classification_report mostra métricas como precisão, recall e F1-score para cada classe de flor, ajudando a entender melhor como o modelo está se comportando em cada categoria.ão para melhorar a precisão.\n",
        "accuracy_score: Mede a porcentagem de previsões corretas feitas pelo modelo.  "
      ]
    },
    {
      "cell_type": "code",
      "execution_count": null,
      "id": "9d7d718d",
      "metadata": {
        "id": "9d7d718d",
        "colab": {
          "base_uri": "https://localhost:8080/"
        },
        "outputId": "afc955ce-735e-4dc3-c3fc-1a380c6840b6"
      },
      "outputs": [
        {
          "output_type": "stream",
          "name": "stdout",
          "text": [
            "              precision    recall  f1-score   support\n",
            "\n",
            "           0       1.00      1.00      1.00        10\n",
            "           1       1.00      1.00      1.00         9\n",
            "           2       1.00      1.00      1.00        11\n",
            "\n",
            "    accuracy                           1.00        30\n",
            "   macro avg       1.00      1.00      1.00        30\n",
            "weighted avg       1.00      1.00      1.00        30\n",
            "\n"
          ]
        }
      ],
      "source": [
        "from sklearn.metrics import classification_report\n",
        "\n",
        "# Relatório detalhado do desempenho do modelo\n",
        "print(classification_report(y_test, y_pred))"
      ]
    },
    {
      "cell_type": "markdown",
      "source": [
        "### Precisão (Precision)\n",
        "**Precisão** é a proporção de predições positivas corretas em relação ao total de predições feitas como positivas. Em outras palavras, mede o quão preciso o modelo é ao prever uma classe positiva.\n",
        "\n",
        "O cálculo é dado por:\n",
        "\n",
        "$\n",
        "\\text{Precisão} = \\frac{\\text{Verdadeiros Positivos (TP)}}{\\text{Verdadeiros Positivos (TP)} + \\text{Falsos Positivos (FP)}}\n",
        "$\n",
        "\n",
        "**Interpretação**: Quantos dos resultados positivos previstos pelo modelo estão corretos?\n",
        "\n",
        "---\n",
        "\n",
        "### Recall\n",
        "O **recall**, também chamado de **sensibilidade** ou **taxa de verdadeiros positivos**, é a proporção de verdadeiros positivos em relação ao total de amostras reais positivas.\n",
        "\n",
        "O cálculo é dado por:\n",
        "\n",
        "$\n",
        "\\text{Recall} = \\frac{\\text{Verdadeiros Positivos (TP)}}{\\text{Verdadeiros Positivos (TP)} + \\text{Falsos Negativos (FN)}}\n",
        "$\n",
        "\n",
        "**Interpretação**: Quantos dos resultados verdadeiramente positivos foram detectados pelo modelo?\n",
        "\n",
        "---\n",
        "\n",
        "### F1-Score\n",
        "O **F1-Score** é a média harmônica entre precisão e recall, fornecendo uma métrica equilibrada quando se deseja um bom compromisso entre os dois.\n",
        "\n",
        "O cálculo é dado por:\n",
        "\n",
        "$\n",
        "\\text{F1-Score} = 2 \\times \\frac{\\text{Precisão} \\times \\text{Recall}}{\\text{Precisão} + \\text{Recall}}\n",
        "$\n",
        "\n",
        "**Interpretação**: O F1-Score é útil quando há um desbalanceamento entre as classes, pois combina precisão e recall em uma única métrica.\n",
        "\n",
        "---\n",
        "\n",
        "### Suporte (Support)\n",
        "O **suporte** é o número de ocorrências reais de cada classe no conjunto de teste. Ele mostra a quantidade de amostras verdadeiras de cada classe.\n"
      ],
      "metadata": {
        "id": "n2IZba3X0EgY"
      },
      "id": "n2IZba3X0EgY"
    },
    {
      "cell_type": "markdown",
      "id": "a5714aca",
      "metadata": {
        "id": "a5714aca"
      },
      "source": [
        "## PASSO 6: Implantação e Monitoramento"
      ]
    },
    {
      "cell_type": "markdown",
      "id": "18600ba2",
      "metadata": {
        "id": "18600ba2"
      },
      "source": [
        "![implantacao.png](attachment:implantacao.png)"
      ]
    },
    {
      "cell_type": "markdown",
      "id": "58ad2aab",
      "metadata": {
        "id": "58ad2aab"
      },
      "source": [
        "### Por fim, mostramos como o modelo poderia ser utilizado para prever a espécie de uma nova flor.\n",
        "  \n",
        "#### Explicação:\n",
        "Simulamos a previsão de uma nova flor com base em suas características. O modelo prevê a espécie da flor usando os dados de sépalas e pétalas."
      ]
    },
    {
      "cell_type": "code",
      "execution_count": null,
      "id": "9ccf1d65",
      "metadata": {
        "id": "9ccf1d65",
        "colab": {
          "base_uri": "https://localhost:8080/"
        },
        "outputId": "d0057b17-afed-4063-8c0f-e3ca82ac59c2"
      },
      "outputs": [
        {
          "output_type": "stream",
          "name": "stdout",
          "text": [
            "Previsão da nova flor (0=setosa, 1=versicolor, 2=virginica): [0]\n"
          ]
        },
        {
          "output_type": "stream",
          "name": "stderr",
          "text": [
            "/usr/local/lib/python3.10/dist-packages/sklearn/base.py:493: UserWarning: X does not have valid feature names, but RandomForestClassifier was fitted with feature names\n",
            "  warnings.warn(\n"
          ]
        }
      ],
      "source": [
        "# Exemplo de uso do modelo em uma nova flor com características fictícias\n",
        "nova_flor = [[5.1, 3.5, 1.4, 0.2]]  # Comprimento e largura das sépalas e pétalas\n",
        "previsao = modelo.predict(nova_flor)\n",
        "print(\"Previsão da nova flor (0=setosa, 1=versicolor, 2=virginica):\", previsao)"
      ]
    },
    {
      "cell_type": "markdown",
      "id": "a17546dd",
      "metadata": {
        "id": "a17546dd"
      },
      "source": [
        "### Resumo das Etapas:\n",
        "\n",
        "1) Coleta de Dados: Carregamos o dataset Iris e preparamos as colunas com as características e classes das flores.\n",
        "\n",
        "2) Preparação e Limpeza: Verificamos que os dados não têm valores ausentes e estão prontos para análise.\n",
        "\n",
        "3) Análise Exploratória: Visualizamos as relações entre as características e as espécies de flores usando gráficos.\n",
        "\n",
        "4) Modelagem: Criamos e treinamos um modelo de Random Forest para classificar as flores.\n",
        "\n",
        "5) Validação: Avaliamos o modelo com a acurácia e o relatório de classificação.\n",
        "\n",
        "6) Implantação: Mostramos como usar o modelo para prever a espécie de novas flores.\n"
      ]
    }
  ],
  "metadata": {
    "kernelspec": {
      "display_name": "Python 3 (ipykernel)",
      "language": "python",
      "name": "python3"
    },
    "language_info": {
      "codemirror_mode": {
        "name": "ipython",
        "version": 3
      },
      "file_extension": ".py",
      "mimetype": "text/x-python",
      "name": "python",
      "nbconvert_exporter": "python",
      "pygments_lexer": "ipython3",
      "version": "3.9.7"
    },
    "colab": {
      "provenance": [],
      "include_colab_link": true
    }
  },
  "nbformat": 4,
  "nbformat_minor": 5
}